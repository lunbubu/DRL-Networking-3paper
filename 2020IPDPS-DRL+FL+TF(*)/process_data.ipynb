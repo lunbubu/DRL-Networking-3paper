{
 "cells": [
  {
   "cell_type": "code",
   "execution_count": 10,
   "metadata": {},
   "outputs": [
    {
     "name": "stdout",
     "output_type": "stream",
     "text": [
      "403\n",
      "619\n",
      "529\n",
      "422\n",
      "585\n"
     ]
    }
   ],
   "source": [
    "# -*- coding: utf-8 -*-\n",
    "import json\n",
    "import numpy as np\n",
    "import os\n",
    "import pandas as pd\n",
    "import matplotlib.pyplot as plt#matplotlib inline\n",
    "import math\n",
    "\n",
    "main_path = \"./Dataset\"\n",
    "file_list = os.listdir(main_path)\n",
    "bandwidth = {}\n",
    "count = 0\n",
    "bandwidth[0] = []\n",
    "for f in file_list:\n",
    "    if (f.startswith(\"report_foot_\") == True and count < 5):\n",
    "        with open(main_path + '/' + f, 'r') as file_to_read:\n",
    "            while True:\n",
    "                lines = file_to_read.readline()\n",
    "                if not lines:\n",
    "                    break\n",
    "                item = [i for i in lines.split()]\n",
    "                bandwidth[count].append(float(item[-2])/1000/1000)\n",
    "        count += 1\n",
    "        bandwidth[count] = []\n",
    "        print(len(bandwidth[count-1]))\n",
    "# print(\"Number of user data: \", len(bandwidth))\n",
    "# print(bandwidth)\n",
    "\n"
   ]
  },
  {
   "cell_type": "code",
   "execution_count": null,
   "metadata": {},
   "outputs": [],
   "source": []
  }
 ],
 "metadata": {
  "kernelspec": {
   "display_name": "Python 3",
   "language": "python",
   "name": "python3"
  },
  "language_info": {
   "codemirror_mode": {
    "name": "ipython",
    "version": 3
   },
   "file_extension": ".py",
   "mimetype": "text/x-python",
   "name": "python",
   "nbconvert_exporter": "python",
   "pygments_lexer": "ipython3",
   "version": "3.7.4"
  }
 },
 "nbformat": 4,
 "nbformat_minor": 2
}
